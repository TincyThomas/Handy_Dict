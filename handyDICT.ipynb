{
 "cells": [
  {
   "cell_type": "code",
   "execution_count": 4,
   "metadata": {},
   "outputs": [],
   "source": [
    "import json\n",
    "from difflib import get_close_matches          # get_close_matches - function to find all possible close good enough matches \n",
    "                                                       # of input string into list of pattern strings.\n",
    "def handydict():\n",
    "    with open('original.json') as json_data:\n",
    "        data = json.load(json_data)\n",
    "        word = input('Enter word you want to search:')\n",
    "        word = word.lower()\n",
    "        matches = get_close_matches(word, data, n=1, cutoff=0.3)\n",
    "        print(f'You meant the word {matches} right?\\n')\n",
    "        y_n = input('Type either a -Y- or -N- :')\n",
    "        y_n = y_n.lower()\n",
    "        if y_n == 'y':\n",
    "            new_word = matches[0]\n",
    "            print(f'\\nIn short, {new_word} means:\\n')\n",
    "            print(data[new_word])\n",
    "        else:\n",
    "            print(\"\\nFingers fallen on wrong keys. Type again!\")"
   ]
  },
  {
   "cell_type": "code",
   "execution_count": 6,
   "metadata": {},
   "outputs": [
    {
     "name": "stdout",
     "output_type": "stream",
     "text": [
      "Enter word you want to search:SOPHISTICATED\n",
      "You meant the word ['sophisticated'] right?\n",
      "\n",
      "Type either a -Y- or -N- :Y\n",
      "\n",
      "In short, sophisticated means:\n",
      "\n",
      "['Ahead in development; very well considered, refined, using complex or complicated methods.', 'Having obtained worldly knowledge, experience and refinement, and lacking naiveté.']\n"
     ]
    }
   ],
   "source": [
    "handydict()"
   ]
  },
  {
   "cell_type": "code",
   "execution_count": null,
   "metadata": {},
   "outputs": [],
   "source": []
  }
 ],
 "metadata": {
  "kernelspec": {
   "display_name": "Python 3",
   "language": "python",
   "name": "python3"
  },
  "language_info": {
   "codemirror_mode": {
    "name": "ipython",
    "version": 3
   },
   "file_extension": ".py",
   "mimetype": "text/x-python",
   "name": "python",
   "nbconvert_exporter": "python",
   "pygments_lexer": "ipython3",
   "version": "3.7.6"
  }
 },
 "nbformat": 4,
 "nbformat_minor": 4
}
